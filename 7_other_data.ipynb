{
 "cells": [
  {
   "cell_type": "markdown",
   "metadata": {},
   "source": [
    "# 7. Other data\n",
    "This notebook is the location for the code that transforms 'other' data that is used (i.e outside of the collision data)\n",
    "\n",
    "```\n",
    "# -------------------\n",
    "# Prerequisites:\n",
    "#    - Download of the data into the data/reference/strategic_roads directory (already a part of the submission zip file )\n",
    "# \n",
    "# Functionality:\n",
    "#\n",
    "# (1) Extract the M25 road linestring and reproject into Britisg National Grid Format (EPSG: 27700)\n",
    "#\n",
    "# --"
   ]
  },
  {
   "cell_type": "markdown",
   "metadata": {},
   "source": [
    "## M25 Road \n",
    "https://open-data-highwaysengland.hub.arcgis.com/datasets/highwaysengland::network-model-public/explore?layer=1&location=51.521387%2C-0.195265%2C10.44 (accesed 26/03/2025)"
   ]
  },
  {
   "cell_type": "code",
   "execution_count": 1,
   "metadata": {},
   "outputs": [],
   "source": [
    "import geopandas as gpd"
   ]
  },
  {
   "cell_type": "code",
   "execution_count": 7,
   "metadata": {},
   "outputs": [
    {
     "data": {
      "text/html": [
       "<div>\n",
       "<style scoped>\n",
       "    .dataframe tbody tr th:only-of-type {\n",
       "        vertical-align: middle;\n",
       "    }\n",
       "\n",
       "    .dataframe tbody tr th {\n",
       "        vertical-align: top;\n",
       "    }\n",
       "\n",
       "    .dataframe thead th {\n",
       "        text-align: right;\n",
       "    }\n",
       "</style>\n",
       "<table border=\"1\" class=\"dataframe\">\n",
       "  <thead>\n",
       "    <tr style=\"text-align: right;\">\n",
       "      <th></th>\n",
       "      <th>linkid</th>\n",
       "      <th>linkref</th>\n",
       "      <th>linkcatego</th>\n",
       "      <th>linkdesc</th>\n",
       "      <th>linkform</th>\n",
       "      <th>directiona</th>\n",
       "      <th>direction</th>\n",
       "      <th>numberofla</th>\n",
       "      <th>smartmotor</th>\n",
       "      <th>carriagewa</th>\n",
       "      <th>...</th>\n",
       "      <th>roadname</th>\n",
       "      <th>startdate</th>\n",
       "      <th>enddate</th>\n",
       "      <th>toid</th>\n",
       "      <th>globalid</th>\n",
       "      <th>created_us</th>\n",
       "      <th>created_da</th>\n",
       "      <th>last_edite</th>\n",
       "      <th>last_edi_1</th>\n",
       "      <th>geometry</th>\n",
       "    </tr>\n",
       "  </thead>\n",
       "  <tbody>\n",
       "    <tr>\n",
       "      <th>43772</th>\n",
       "      <td>f4092a9e-e652-2e22-b64d-3f78a10deeb0</td>\n",
       "      <td>A1/E/SL/X/host.played.kings</td>\n",
       "      <td>A</td>\n",
       "      <td>connector at A1 junction with A52</td>\n",
       "      <td>SL</td>\n",
       "      <td>1</td>\n",
       "      <td>E</td>\n",
       "      <td>1</td>\n",
       "      <td>None</td>\n",
       "      <td>X</td>\n",
       "      <td>...</td>\n",
       "      <td>A1</td>\n",
       "      <td>2022-12-19</td>\n",
       "      <td>1899-12-30</td>\n",
       "      <td>None</td>\n",
       "      <td>df54e6d0-8672-42d1-9716-771192b3b40f</td>\n",
       "      <td>esriuk_automation_nh</td>\n",
       "      <td>2025-03-15</td>\n",
       "      <td>esriuk_automation_nh</td>\n",
       "      <td>2025-03-15</td>\n",
       "      <td>LINESTRING Z (-71864.326 6962745.566 0, -71857...</td>\n",
       "    </tr>\n",
       "    <tr>\n",
       "      <th>43773</th>\n",
       "      <td>14b13733-dc96-9bab-3c08-d0c8efbfdafb</td>\n",
       "      <td>A1/W/SL/X/award.comical.stuff</td>\n",
       "      <td>A</td>\n",
       "      <td>connector at A1 junction with A52</td>\n",
       "      <td>SL</td>\n",
       "      <td>1</td>\n",
       "      <td>W</td>\n",
       "      <td>1</td>\n",
       "      <td>None</td>\n",
       "      <td>X</td>\n",
       "      <td>...</td>\n",
       "      <td>A1</td>\n",
       "      <td>2022-12-19</td>\n",
       "      <td>1899-12-30</td>\n",
       "      <td>None</td>\n",
       "      <td>5797679a-73e5-4110-a952-2676a9efa87b</td>\n",
       "      <td>esriuk_automation_nh</td>\n",
       "      <td>2025-03-15</td>\n",
       "      <td>esriuk_automation_nh</td>\n",
       "      <td>2025-03-15</td>\n",
       "      <td>LINESTRING Z (-71796.334 6962755 0, -71811.938...</td>\n",
       "    </tr>\n",
       "    <tr>\n",
       "      <th>43774</th>\n",
       "      <td>8049da55-2b7e-0330-afad-27efa56e6fe8</td>\n",
       "      <td>A1/S/SL/M/dust.boxing.wage</td>\n",
       "      <td>A</td>\n",
       "      <td>A1 southbound access</td>\n",
       "      <td>SL</td>\n",
       "      <td>1</td>\n",
       "      <td>S</td>\n",
       "      <td>1</td>\n",
       "      <td>None</td>\n",
       "      <td>M</td>\n",
       "      <td>...</td>\n",
       "      <td>A1</td>\n",
       "      <td>2022-12-19</td>\n",
       "      <td>1899-12-30</td>\n",
       "      <td>None</td>\n",
       "      <td>4109ce5b-e5e3-479c-9a46-135f7cc1f829</td>\n",
       "      <td>esriuk_automation_nh</td>\n",
       "      <td>2025-03-15</td>\n",
       "      <td>esriuk_automation_nh</td>\n",
       "      <td>2025-03-15</td>\n",
       "      <td>LINESTRING Z (-71703.616 6962775.633 0, -71698...</td>\n",
       "    </tr>\n",
       "  </tbody>\n",
       "</table>\n",
       "<p>3 rows × 28 columns</p>\n",
       "</div>"
      ],
      "text/plain": [
       "                                     linkid                        linkref  \\\n",
       "43772  f4092a9e-e652-2e22-b64d-3f78a10deeb0    A1/E/SL/X/host.played.kings   \n",
       "43773  14b13733-dc96-9bab-3c08-d0c8efbfdafb  A1/W/SL/X/award.comical.stuff   \n",
       "43774  8049da55-2b7e-0330-afad-27efa56e6fe8     A1/S/SL/M/dust.boxing.wage   \n",
       "\n",
       "      linkcatego                           linkdesc linkform directiona  \\\n",
       "43772          A  connector at A1 junction with A52       SL          1   \n",
       "43773          A  connector at A1 junction with A52       SL          1   \n",
       "43774          A               A1 southbound access       SL          1   \n",
       "\n",
       "      direction  numberofla smartmotor carriagewa  ... roadname  startdate  \\\n",
       "43772         E           1       None          X  ...       A1 2022-12-19   \n",
       "43773         W           1       None          X  ...       A1 2022-12-19   \n",
       "43774         S           1       None          M  ...       A1 2022-12-19   \n",
       "\n",
       "         enddate  toid                              globalid  \\\n",
       "43772 1899-12-30  None  df54e6d0-8672-42d1-9716-771192b3b40f   \n",
       "43773 1899-12-30  None  5797679a-73e5-4110-a952-2676a9efa87b   \n",
       "43774 1899-12-30  None  4109ce5b-e5e3-479c-9a46-135f7cc1f829   \n",
       "\n",
       "                 created_us created_da            last_edite last_edi_1  \\\n",
       "43772  esriuk_automation_nh 2025-03-15  esriuk_automation_nh 2025-03-15   \n",
       "43773  esriuk_automation_nh 2025-03-15  esriuk_automation_nh 2025-03-15   \n",
       "43774  esriuk_automation_nh 2025-03-15  esriuk_automation_nh 2025-03-15   \n",
       "\n",
       "                                                geometry  \n",
       "43772  LINESTRING Z (-71864.326 6962745.566 0, -71857...  \n",
       "43773  LINESTRING Z (-71796.334 6962755 0, -71811.938...  \n",
       "43774  LINESTRING Z (-71703.616 6962775.633 0, -71698...  \n",
       "\n",
       "[3 rows x 28 columns]"
      ]
     },
     "execution_count": 7,
     "metadata": {},
     "output_type": "execute_result"
    }
   ],
   "source": [
    "strategic_roads = gpd.read_file('./data/reference/strategic_roads/Link.shp')\n",
    "strategic_roads.tail(3)"
   ]
  },
  {
   "cell_type": "code",
   "execution_count": 8,
   "metadata": {},
   "outputs": [
    {
     "data": {
      "text/plain": [
       "<Projected CRS: EPSG:3857>\n",
       "Name: WGS 84 / Pseudo-Mercator\n",
       "Axis Info [cartesian]:\n",
       "- X[east]: Easting (metre)\n",
       "- Y[north]: Northing (metre)\n",
       "Area of Use:\n",
       "- name: World between 85.06°S and 85.06°N.\n",
       "- bounds: (-180.0, -85.06, 180.0, 85.06)\n",
       "Coordinate Operation:\n",
       "- name: Popular Visualisation Pseudo-Mercator\n",
       "- method: Popular Visualisation Pseudo Mercator\n",
       "Datum: World Geodetic System 1984 ensemble\n",
       "- Ellipsoid: WGS 84\n",
       "- Prime Meridian: Greenwich"
      ]
     },
     "execution_count": 8,
     "metadata": {},
     "output_type": "execute_result"
    }
   ],
   "source": [
    "strategic_roads.crs"
   ]
  },
  {
   "cell_type": "code",
   "execution_count": 9,
   "metadata": {},
   "outputs": [
    {
     "data": {
      "text/plain": [
       "<Projected CRS: EPSG:27700>\n",
       "Name: OSGB36 / British National Grid\n",
       "Axis Info [cartesian]:\n",
       "- E[east]: Easting (metre)\n",
       "- N[north]: Northing (metre)\n",
       "Area of Use:\n",
       "- name: United Kingdom (UK) - offshore to boundary of UKCS within 49°45'N to 61°N and 9°W to 2°E; onshore Great Britain (England, Wales and Scotland). Isle of Man onshore.\n",
       "- bounds: (-9.01, 49.75, 2.01, 61.01)\n",
       "Coordinate Operation:\n",
       "- name: British National Grid\n",
       "- method: Transverse Mercator\n",
       "Datum: Ordnance Survey of Great Britain 1936\n",
       "- Ellipsoid: Airy 1830\n",
       "- Prime Meridian: Greenwich"
      ]
     },
     "execution_count": 9,
     "metadata": {},
     "output_type": "execute_result"
    }
   ],
   "source": [
    "strategic_roads = strategic_roads.to_crs(27700)\n",
    "strategic_roads.crs"
   ]
  },
  {
   "cell_type": "code",
   "execution_count": 10,
   "metadata": {},
   "outputs": [
    {
     "data": {
      "text/plain": [
       "<Axes: >"
      ]
     },
     "execution_count": 10,
     "metadata": {},
     "output_type": "execute_result"
    },
    {
     "data": {
      "image/png": "[encoded data removed]",
      "text/plain": [
       "<Figure size 640x480 with 1 Axes>"
      ]
     },
     "metadata": {},
     "output_type": "display_data"
    }
   ],
   "source": [
    "m25 = strategic_roads[(strategic_roads.roadname == \"M25\") | (strategic_roads.roadname == \"A282\")]\n",
    "m25.plot()"
   ]
  },
  {
   "cell_type": "code",
   "execution_count": 12,
   "metadata": {},
   "outputs": [
    {
     "name": "stderr",
     "output_type": "stream",
     "text": [
      "c:\\Users\\Boomerang\\AppData\\Local\\ESRI\\conda\\envs\\p312\\Lib\\site-packages\\pyogrio\\raw.py:723: RuntimeWarning: Field startdate create as date field, though DateTime requested.\n",
      "  ogr_write(\n",
      "c:\\Users\\Boomerang\\AppData\\Local\\ESRI\\conda\\envs\\p312\\Lib\\site-packages\\pyogrio\\raw.py:723: RuntimeWarning: Field enddate create as date field, though DateTime requested.\n",
      "  ogr_write(\n",
      "c:\\Users\\Boomerang\\AppData\\Local\\ESRI\\conda\\envs\\p312\\Lib\\site-packages\\pyogrio\\raw.py:723: RuntimeWarning: Field created_da create as date field, though DateTime requested.\n",
      "  ogr_write(\n",
      "c:\\Users\\Boomerang\\AppData\\Local\\ESRI\\conda\\envs\\p312\\Lib\\site-packages\\pyogrio\\raw.py:723: RuntimeWarning: Field last_edi_1 create as date field, though DateTime requested.\n",
      "  ogr_write(\n"
     ]
    }
   ],
   "source": [
    "m25.to_file('./data/processed/m25/m25.shp')"
   ]
  }
 ],
 "metadata": {
  "kernelspec": {
   "display_name": "Python 3",
   "language": "python",
   "name": "python3"
  },
  "language_info": {
   "codemirror_mode": {
    "name": "ipython",
    "version": 3
   },
   "file_extension": ".py",
   "mimetype": "text/x-python",
   "name": "python",
   "nbconvert_exporter": "python",
   "pygments_lexer": "ipython3",
   "version": "3.12.9"
  }
 },
 "nbformat": 4,
 "nbformat_minor": 2
}
